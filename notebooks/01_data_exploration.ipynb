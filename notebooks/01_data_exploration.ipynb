{
 "cells": [
  {
   "cell_type": "code",
   "execution_count": null,
   "id": "2e8b15f7",
   "metadata": {},
   "outputs": [],
   "source": [
    "# Imports for EDA\n",
    "\n",
    "import pandas as pd\n",
    "import numpy as np\n",
    "import matplotlib.pyplot as plt\n",
    "import seaborn as sns\n",
    "from datetime import datetime\n",
    "import warnings"
   ]
  },
  {
   "cell_type": "code",
   "execution_count": null,
   "id": "1c5382d9",
   "metadata": {},
   "outputs": [],
   "source": [
    "# Loading data w/ encoding fix\n",
    "\n",
    "df = pd.read_csv('../data/raw/startups_data.csv', encoding='latin-1')"
   ]
  },
  {
   "cell_type": "code",
   "execution_count": null,
   "id": "aa922bb6",
   "metadata": {},
   "outputs": [],
   "source": [
    "# Some brief early exploration - rows, columns, column names, first 5 rows \n",
    "\n",
    "print(f\"Dataset Shape: {df.shape}\")\n",
    "print(f\"Columns {df.columns.tolist()}\")\n",
    "print(df.head())\n"
   ]
  },
  {
   "cell_type": "code",
   "execution_count": null,
   "id": "42f41004",
   "metadata": {},
   "outputs": [],
   "source": [
    "# Data types, memory usage, amount of non-null values per column\n",
    "\n",
    "print(df.info())"
   ]
  },
  {
   "cell_type": "code",
   "execution_count": null,
   "id": "2592842b",
   "metadata": {},
   "outputs": [],
   "source": [
    "# Ignoring warnings\n",
    "warnings.filterwarnings('ignore')\n",
    "\n",
    "# Plotting style\n",
    "plt.style.use('default')\n",
    "sns.set_palette(\"husl\")"
   ]
  },
  {
   "cell_type": "code",
   "execution_count": null,
   "id": "083ef54d",
   "metadata": {},
   "outputs": [],
   "source": [
    "# Early Data Quality Assessment \n",
    "\n",
    "print(\"Early Data Quality Assessment\")\n",
    "\n",
    "missing_data = df.isnull().sum()\n",
    "missing_percent = (missing_data / len(df)) * 100\n",
    "missing_df = pd.DataFrame({\n",
    "    'Column': missing_data.index,\n",
    "    'Missing_Count': missing_data.values,\n",
    "    'Missing_Percentage': missing_percent.values\n",
    "}).sort_values('Missing_Percentage', ascending=False)\n",
    "\n",
    "print(\"\\nTop 10 Columns with Most Missing Values:\")\n",
    "print(missing_df.head(10))\n",
    "\n",
    "# Visualize missing data pattern\n",
    "\n",
    "plt.figure(figsize=(12, 8))\n",
    "plt.subplot(2, 1, 1)\n",
    "missing_df.head(15).plot(x='Column', y='Missing_Percentage', kind='bar')\n",
    "plt.title('Missing Data by Column')\n",
    "plt.xticks(rotation=45)\n",
    "plt.ylabel('Missing Percentage')\n",
    "\n",
    "# Checking for duplicate companies\n",
    "\n",
    "duplicates = df.duplicated(subset=['name']).sum()\n",
    "print(f\"Duplicate company names: {duplicates}\")\n",
    "\n",
    "# Data type issues\n",
    "\n",
    "print(f\"Data Types Summary:\")\n",
    "print(df.dtypes.value_counts())\n"
   ]
  },
  {
   "cell_type": "code",
   "execution_count": null,
   "id": "d2e0ed94",
   "metadata": {},
   "outputs": [],
   "source": [
    "# Duplicate Company Investigation\n",
    "\n",
    "# Some duplicate examples\n",
    "\n",
    "duplicate_names = df[df.duplicated(subset=['name'], keep=False)]['name'].value_counts().head(10)\n",
    "print(\"Most frequent duplicate company names:\")\n",
    "print(duplicate_names)\n",
    "\n",
    "# Checking if duplicates have different data respectively\n",
    "\n",
    "sample_duplicate = duplicate_names.index[0]\n",
    "duplicate_rows = df[df['name'] == sample_duplicate]\n",
    "print(f\"\\nExample: All rows for '{sample_duplicate}':\")\n",
    "print(duplicate_rows[['name', 'status', 'founded_year', ' funding_total_usd ', 'country_code']].head())"
   ]
  }
 ],
 "metadata": {
  "kernelspec": {
   "display_name": "Python 3",
   "language": "python",
   "name": "python3"
  },
  "language_info": {
   "codemirror_mode": {
    "name": "ipython",
    "version": 3
   },
   "file_extension": ".py",
   "mimetype": "text/x-python",
   "name": "python",
   "nbconvert_exporter": "python",
   "pygments_lexer": "ipython3",
   "version": "3.11.4"
  }
 },
 "nbformat": 4,
 "nbformat_minor": 5
}
