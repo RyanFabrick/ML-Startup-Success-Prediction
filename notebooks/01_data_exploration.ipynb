{
 "cells": [
  {
   "cell_type": "code",
   "execution_count": 48,
   "id": "2e8b15f7",
   "metadata": {},
   "outputs": [],
   "source": [
    "# Imports for EDA\n",
    "\n",
    "import pandas as pd\n",
    "import numpy as np\n",
    "import matplotlib.pyplot as plt\n",
    "import seaborn as sns\n",
    "from datetime import datetime\n",
    "import warnings"
   ]
  },
  {
   "cell_type": "code",
   "execution_count": 49,
   "id": "1c5382d9",
   "metadata": {},
   "outputs": [],
   "source": [
    "# Loading data w/ encoding fix\n",
    "\n",
    "df = pd.read_csv('../data/raw/startups_data.csv', encoding='latin-1')"
   ]
  },
  {
   "cell_type": "markdown",
   "id": "00573788",
   "metadata": {},
   "source": [
    "## Initial Early Data Overview\n",
    "\n",
    "**Dataset Size**: 54,294 startups w/ 39 features\n",
    "\n",
    "**Key Features Confirmed**\n",
    "- Geographic: country_code, region, city\n",
    "- Industry: category_list, market\n",
    "- Funding: funding_total_usd, funding rounds (A-H), funding types\n",
    "- Temporal: founded_year`, funding dates\n",
    "- Target: status (acquired/operating/closed)"
   ]
  },
  {
   "cell_type": "code",
   "execution_count": 50,
   "id": "aa922bb6",
   "metadata": {},
   "outputs": [
    {
     "name": "stdout",
     "output_type": "stream",
     "text": [
      "Dataset Shape: (54294, 39)\n",
      "Columns ['permalink', 'name', 'homepage_url', 'category_list', ' market ', ' funding_total_usd ', 'status', 'country_code', 'state_code', 'region', 'city', 'funding_rounds', 'founded_at', 'founded_month', 'founded_quarter', 'founded_year', 'first_funding_at', 'last_funding_at', 'seed', 'venture', 'equity_crowdfunding', 'undisclosed', 'convertible_note', 'debt_financing', 'angel', 'grant', 'private_equity', 'post_ipo_equity', 'post_ipo_debt', 'secondary_market', 'product_crowdfunding', 'round_A', 'round_B', 'round_C', 'round_D', 'round_E', 'round_F', 'round_G', 'round_H']\n",
      "                         permalink                name  \\\n",
      "0            /organization/waywire            #waywire   \n",
      "1  /organization/tv-communications  &TV Communications   \n",
      "2    /organization/rock-your-paper   'Rock' Your Paper   \n",
      "3   /organization/in-touch-network   (In)Touch Network   \n",
      "4   /organization/r-ranch-and-mine  -R- Ranch and Mine   \n",
      "\n",
      "                    homepage_url  \\\n",
      "0         http://www.waywire.com   \n",
      "1          http://enjoyandtv.com   \n",
      "2   http://www.rockyourpaper.org   \n",
      "3  http://www.InTouchNetwork.com   \n",
      "4                            NaN   \n",
      "\n",
      "                                       category_list        market   \\\n",
      "0         |Entertainment|Politics|Social Media|News|          News    \n",
      "1                                            |Games|         Games    \n",
      "2                             |Publishing|Education|    Publishing    \n",
      "3  |Electronics|Guides|Coffee|Restaurants|Music|i...   Electronics    \n",
      "4                      |Tourism|Entertainment|Games|       Tourism    \n",
      "\n",
      "   funding_total_usd      status country_code state_code         region  ...  \\\n",
      "0          17,50,000    acquired          USA         NY  New York City  ...   \n",
      "1          40,00,000   operating          USA         CA    Los Angeles  ...   \n",
      "2             40,000   operating          EST        NaN        Tallinn  ...   \n",
      "3          15,00,000   operating          GBR        NaN         London  ...   \n",
      "4             60,000   operating          USA         TX         Dallas  ...   \n",
      "\n",
      "  secondary_market  product_crowdfunding round_A round_B round_C  round_D  \\\n",
      "0              0.0                   0.0     0.0     0.0     0.0      0.0   \n",
      "1              0.0                   0.0     0.0     0.0     0.0      0.0   \n",
      "2              0.0                   0.0     0.0     0.0     0.0      0.0   \n",
      "3              0.0                   0.0     0.0     0.0     0.0      0.0   \n",
      "4              0.0                   0.0     0.0     0.0     0.0      0.0   \n",
      "\n",
      "  round_E round_F  round_G  round_H  \n",
      "0     0.0     0.0      0.0      0.0  \n",
      "1     0.0     0.0      0.0      0.0  \n",
      "2     0.0     0.0      0.0      0.0  \n",
      "3     0.0     0.0      0.0      0.0  \n",
      "4     0.0     0.0      0.0      0.0  \n",
      "\n",
      "[5 rows x 39 columns]\n"
     ]
    }
   ],
   "source": [
    "# Some brief early exploration - rows, columns, column names, first 5 rows \n",
    "\n",
    "print(f\"Dataset Shape: {df.shape}\")\n",
    "print(f\"Columns {df.columns.tolist()}\")\n",
    "print(df.head())\n"
   ]
  },
  {
   "cell_type": "markdown",
   "id": "afa615c6",
   "metadata": {},
   "source": [
    "### Data Summary\n",
    "- **Memory usage**: 16.2 MB - manageable for analysis\n",
    "- **Critical issue**: funding_total_usd stored as text (object). Needs numeric conversion\n",
    "- **Missing values**: Temporal features (~29% missing) and geographic data (~18% missing) require strategic handling\n",
    "- **Good coverage**: Funding rounds and investment types have good completeness (91% non-null)"
   ]
  },
  {
   "cell_type": "code",
   "execution_count": 51,
   "id": "42f41004",
   "metadata": {},
   "outputs": [
    {
     "name": "stdout",
     "output_type": "stream",
     "text": [
      "<class 'pandas.core.frame.DataFrame'>\n",
      "RangeIndex: 54294 entries, 0 to 54293\n",
      "Data columns (total 39 columns):\n",
      " #   Column                Non-Null Count  Dtype  \n",
      "---  ------                --------------  -----  \n",
      " 0   permalink             49438 non-null  object \n",
      " 1   name                  49437 non-null  object \n",
      " 2   homepage_url          45989 non-null  object \n",
      " 3   category_list         45477 non-null  object \n",
      " 4    market               45470 non-null  object \n",
      " 5    funding_total_usd    49438 non-null  object \n",
      " 6   status                48124 non-null  object \n",
      " 7   country_code          44165 non-null  object \n",
      " 8   state_code            30161 non-null  object \n",
      " 9   region                44165 non-null  object \n",
      " 10  city                  43322 non-null  object \n",
      " 11  funding_rounds        49438 non-null  float64\n",
      " 12  founded_at            38554 non-null  object \n",
      " 13  founded_month         38482 non-null  object \n",
      " 14  founded_quarter       38482 non-null  object \n",
      " 15  founded_year          38482 non-null  float64\n",
      " 16  first_funding_at      49438 non-null  object \n",
      " 17  last_funding_at       49438 non-null  object \n",
      " 18  seed                  49438 non-null  float64\n",
      " 19  venture               49438 non-null  float64\n",
      " 20  equity_crowdfunding   49438 non-null  float64\n",
      " 21  undisclosed           49438 non-null  float64\n",
      " 22  convertible_note      49438 non-null  float64\n",
      " 23  debt_financing        49438 non-null  float64\n",
      " 24  angel                 49438 non-null  float64\n",
      " 25  grant                 49438 non-null  float64\n",
      " 26  private_equity        49438 non-null  float64\n",
      " 27  post_ipo_equity       49438 non-null  float64\n",
      " 28  post_ipo_debt         49438 non-null  float64\n",
      " 29  secondary_market      49438 non-null  float64\n",
      " 30  product_crowdfunding  49438 non-null  float64\n",
      " 31  round_A               49438 non-null  float64\n",
      " 32  round_B               49438 non-null  float64\n",
      " 33  round_C               49438 non-null  float64\n",
      " 34  round_D               49438 non-null  float64\n",
      " 35  round_E               49438 non-null  float64\n",
      " 36  round_F               49438 non-null  float64\n",
      " 37  round_G               49438 non-null  float64\n",
      " 38  round_H               49438 non-null  float64\n",
      "dtypes: float64(23), object(16)\n",
      "memory usage: 16.2+ MB\n",
      "None\n"
     ]
    }
   ],
   "source": [
    "# Data types, memory usage, amount of non-null values per column\n",
    "\n",
    "print(df.info())"
   ]
  },
  {
   "cell_type": "code",
   "execution_count": 52,
   "id": "2592842b",
   "metadata": {},
   "outputs": [],
   "source": [
    "# Ignoring warnings\n",
    "warnings.filterwarnings('ignore')\n",
    "\n",
    "# Plotting style\n",
    "plt.style.use('default')\n",
    "sns.set_palette(\"husl\")"
   ]
  },
  {
   "cell_type": "markdown",
   "id": "e173bbb7",
   "metadata": {},
   "source": [
    "## 1. Data Quality Assessment\n",
    "\n",
    "### Key Findings\n",
    "\n",
    "#### Missing Data Patterns\n",
    "- **Geographic data**: Moderate missing values (18-20% for country/region, 44% for state_code)\n",
    "- **Temporal data**: Significant gaps (~29% missing founding dates). Could impact our economic cycle analysis\n",
    "- **Industry data**: Good coverage (16% missing for categories/market)\n",
    "- **Critical insight**: Missing data appears systematic rather than random. Suggests data collection challenges for certain startup characteristics\n",
    "\n",
    "#### Duplicate Analysis\n",
    "- **4,943 duplicate company names** detected (9.1% of total dataset)\n",
    "- Duplication investigation needed\n",
    "\n",
    "#### Data Type Assessment\n",
    "- **23 numeric features** (float64) - quantitative analysis\n",
    "- **16 text features** (object) - categorical and funding data that needs cleaning\n",
    "- **Key issue**: Funding amounts stored as text instead of numeric values\n",
    "\n",
    "### Implications for ML Pipeline\n",
    "\n",
    "**Strengths:**\n",
    "- Large dataset size (54,294 companies)\n",
    "- Rich feature set across geographic, temporal, and funding\n",
    "- Sufficient data completeness for most critical features\n",
    "\n",
    "**Preprocessing Requirements:**\n",
    "1. **Missing value strategy** - especially for temporal features needed for bias-free methodology\n",
    "2. **Duplicate investigation** - determine if these are truly separate entities\n",
    "3. **Data type conversion** - clean funding amounts and other numeric features\n",
    "4. **Feature engineering** - create geographic density and temporal cycle features"
   ]
  },
  {
   "cell_type": "code",
   "execution_count": 53,
   "id": "083ef54d",
   "metadata": {},
   "outputs": [
    {
     "name": "stdout",
     "output_type": "stream",
     "text": [
      "Early Data Quality Assessment\n",
      "\n",
      "Top 10 Columns with Most Missing Values:\n",
      "             Column  Missing_Count  Missing_Percentage\n",
      "8        state_code          24133           44.448742\n",
      "14  founded_quarter          15812           29.122923\n",
      "13    founded_month          15812           29.122923\n",
      "15     founded_year          15812           29.122923\n",
      "12       founded_at          15740           28.990312\n",
      "10             city          10972           20.208494\n",
      "9            region          10129           18.655837\n",
      "7      country_code          10129           18.655837\n",
      "4           market            8824           16.252256\n",
      "3     category_list           8817           16.239363\n",
      "Duplicate company names: 4943\n",
      "Data Types Summary:\n",
      "float64    23\n",
      "object     16\n",
      "Name: count, dtype: int64\n"
     ]
    },
    {
     "data": {
      "image/png": "[encoded data removed]",
      "text/plain": [
       "<Figure size 1200x800 with 1 Axes>"
      ]
     },
     "metadata": {},
     "output_type": "display_data"
    },
    {
     "data": {
      "image/png": "[encoded data removed]",
      "text/plain": [
       "<Figure size 640x480 with 1 Axes>"
      ]
     },
     "metadata": {},
     "output_type": "display_data"
    }
   ],
   "source": [
    "# Early Data Quality Assessment \n",
    "\n",
    "print(\"Early Data Quality Assessment\")\n",
    "\n",
    "missing_data = df.isnull().sum()\n",
    "missing_percent = (missing_data / len(df)) * 100\n",
    "missing_df = pd.DataFrame({\n",
    "    'Column': missing_data.index,\n",
    "    'Missing_Count': missing_data.values,\n",
    "    'Missing_Percentage': missing_percent.values\n",
    "}).sort_values('Missing_Percentage', ascending=False)\n",
    "\n",
    "print(\"\\nTop 10 Columns with Most Missing Values:\")\n",
    "print(missing_df.head(10))\n",
    "\n",
    "# Visualize missing data pattern\n",
    "\n",
    "plt.figure(figsize=(12, 8))\n",
    "plt.subplot(2, 1, 1)\n",
    "missing_df.head(15).plot(x='Column', y='Missing_Percentage', kind='bar')\n",
    "plt.title('Missing Data by Column')\n",
    "plt.xticks(rotation=45)\n",
    "plt.ylabel('Missing Percentage')\n",
    "\n",
    "# Checking for duplicate companies\n",
    "\n",
    "duplicates = df.duplicated(subset=['name']).sum()\n",
    "print(f\"Duplicate company names: {duplicates}\")\n",
    "\n",
    "# Data type issues\n",
    "\n",
    "print(f\"Data Types Summary:\")\n",
    "print(df.dtypes.value_counts())\n"
   ]
  },
  {
   "cell_type": "markdown",
   "id": "6b275492",
   "metadata": {},
   "source": [
    "### Duplicate Investigation Results\n",
    "The analysis reveals that \"duplicate\" company names are actually **separate companies** \n",
    "with the same name, evidenced by:\n",
    "- Different founding years (2010, 2012, 2013)  \n",
    "- Different funding amounts ($1M to $26.6M)\n",
    "- Different business outcomes (acquired vs operating)\n",
    "\n",
    "**Decision**: Keep all entries as they represent legitimate separate entities"
   ]
  },
  {
   "cell_type": "code",
   "execution_count": 54,
   "id": "d2e0ed94",
   "metadata": {},
   "outputs": [
    {
     "name": "stdout",
     "output_type": "stream",
     "text": [
      "Most frequent duplicate company names:\n",
      "name\n",
      "Spire                4\n",
      "Roost                4\n",
      "Hubbub               3\n",
      "Compass              3\n",
      "Cue                  3\n",
      "Peach                3\n",
      "Roadmap              3\n",
      "Shift                3\n",
      "AYOXXA Biosystems    2\n",
      "Blink                2\n",
      "Name: count, dtype: int64\n",
      "\n",
      "Example: All rows for 'Spire':\n",
      "        name     status  founded_year  funding_total_usd  country_code\n",
      "40070  Spire   acquired           NaN          90,00,000           USA\n",
      "40071  Spire  operating        2010.0          12,50,000           USA\n",
      "40072  Spire  operating        2013.0           1,00,000           USA\n",
      "40073  Spire  operating        2012.0        2,66,00,000           USA\n"
     ]
    }
   ],
   "source": [
    "# Duplicate Company Investigation\n",
    "\n",
    "# Some duplicate examples\n",
    "\n",
    "duplicate_names = df[df.duplicated(subset=['name'], keep=False)]['name'].value_counts().head(10)\n",
    "print(\"Most frequent duplicate company names:\")\n",
    "print(duplicate_names)\n",
    "\n",
    "# Checking if duplicates have different data respectively\n",
    "\n",
    "sample_duplicate = duplicate_names.index[0]\n",
    "duplicate_rows = df[df['name'] == sample_duplicate]\n",
    "print(f\"\\nExample: All rows for '{sample_duplicate}':\")\n",
    "print(duplicate_rows[['name', 'status', 'founded_year', ' funding_total_usd ', 'country_code']].head())"
   ]
  }
 ],
 "metadata": {
  "kernelspec": {
   "display_name": "Python 3",
   "language": "python",
   "name": "python3"
  },
  "language_info": {
   "codemirror_mode": {
    "name": "ipython",
    "version": 3
   },
   "file_extension": ".py",
   "mimetype": "text/x-python",
   "name": "python",
   "nbconvert_exporter": "python",
   "pygments_lexer": "ipython3",
   "version": "3.11.4"
  }
 },
 "nbformat": 4,
 "nbformat_minor": 5
}
