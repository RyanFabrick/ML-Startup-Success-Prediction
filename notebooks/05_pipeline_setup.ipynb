{
 "cells": [
  {
   "cell_type": "code",
   "execution_count": 5,
   "id": "11944014",
   "metadata": {},
   "outputs": [
    {
     "name": "stderr",
     "output_type": "stream",
     "text": [
      "INFO:src.data_preprocessing:Loading training data from ../data/raw/startups_data.csv\n"
     ]
    },
    {
     "name": "stdout",
     "output_type": "stream",
     "text": [
      "Loading RAW training data...\n",
      "Loaded 54294 rows\n",
      "Columns: ['permalink', 'name', 'homepage_url', 'category_list', ' market ', ' funding_total_usd ', 'status', 'country_code', 'state_code', 'region', 'city', 'funding_rounds', 'founded_at', 'founded_month', 'founded_quarter', 'founded_year', 'first_funding_at', 'last_funding_at', 'seed', 'venture', 'equity_crowdfunding', 'undisclosed', 'convertible_note', 'debt_financing', 'angel', 'grant', 'private_equity', 'post_ipo_equity', 'post_ipo_debt', 'secondary_market', 'product_crowdfunding', 'round_A', 'round_B', 'round_C', 'round_D', 'round_E', 'round_F', 'round_G', 'round_H']\n",
      "Creating and fitting preprocessor...\n"
     ]
    },
    {
     "name": "stderr",
     "output_type": "stream",
     "text": [
      "INFO:src.data_preprocessing:Fitting StartupDataProcessor on training data...\n",
      "INFO:src.data_preprocessing:Created region density mapping for 1089 regions\n",
      "INFO:src.data_preprocessing:Created city density mapping for 4188 cities\n",
      "INFO:src.data_preprocessing:Founding year statistics - Mean: 2007.4, Std: 7.6\n",
      "INFO:src.data_preprocessing:Expected 22 features after preprocessing\n",
      "INFO:src.data_preprocessing:Preprocessor saved to ../results/models/preprocessor.pkl\n"
     ]
    },
    {
     "name": "stdout",
     "output_type": "stream",
     "text": [
      "Saving preprocessor...\n",
      "Preprocessor created and saved successfully!\n"
     ]
    }
   ],
   "source": [
    "import sys\n",
    "import os\n",
    "sys.path.append(os.path.dirname(os.path.abspath('.')))\n",
    "from src.data_preprocessing import create_and_fit_preprocessor\n",
    "import pandas as pd\n",
    "\n",
    "###################################################################\n",
    "# FOR INITIAL SETUP ONLY\n",
    "# This script creates and saves the preprocessor for the API \n",
    "####################################################################\n",
    "\n",
    "# Use the RAW dataset with latin-1 encoding\n",
    "print(\"Loading RAW training data...\")\n",
    "df = pd.read_csv('../data/raw/startups_data.csv', encoding='latin-1')\n",
    "print(f\"Loaded {len(df)} rows\")\n",
    "print(f\"Columns: {list(df.columns)}\")\n",
    "\n",
    "# Creates and fits the preprocessor with latin-1 encoding\n",
    "print(\"Creating and fitting preprocessor...\")\n",
    "processor = create_and_fit_preprocessor('../data/raw/startups_data.csv', encoding='latin-1')\n",
    "\n",
    "# Create directory if it doesn't exist (in parent directory)\n",
    "models_dir = '../results/models'\n",
    "os.makedirs(models_dir, exist_ok=True)\n",
    "\n",
    "# Saves it for the API\n",
    "print(\"Saving preprocessor...\")\n",
    "processor.save(f'{models_dir}/preprocessor.pkl')\n",
    "\n",
    "print(\"Preprocessor created and saved successfully!\")"
   ]
  }
 ],
 "metadata": {
  "kernelspec": {
   "display_name": "Python 3",
   "language": "python",
   "name": "python3"
  },
  "language_info": {
   "codemirror_mode": {
    "name": "ipython",
    "version": 3
   },
   "file_extension": ".py",
   "mimetype": "text/x-python",
   "name": "python",
   "nbconvert_exporter": "python",
   "pygments_lexer": "ipython3",
   "version": "3.11.4"
  }
 },
 "nbformat": 4,
 "nbformat_minor": 5
}
